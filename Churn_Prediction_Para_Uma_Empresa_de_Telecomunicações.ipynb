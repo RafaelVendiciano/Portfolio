{
  "nbformat": 4,
  "nbformat_minor": 0,
  "metadata": {
    "colab": {
      "name": "Churn Prediction Para Uma Empresa de Telecomunicações.ipynb",
      "provenance": [],
      "collapsed_sections": [],
      "include_colab_link": true
    },
    "kernelspec": {
      "name": "python3",
      "display_name": "Python 3"
    }
  },
  "cells": [
    {
      "cell_type": "markdown",
      "metadata": {
        "id": "view-in-github",
        "colab_type": "text"
      },
      "source": [
        "<a href=\"https://colab.research.google.com/github/RafaelVendiciano/Portfolio/blob/master/Churn_Prediction_Para_Uma_Empresa_de_Telecomunica%C3%A7%C3%B5es.ipynb\" target=\"_parent\"><img src=\"https://colab.research.google.com/assets/colab-badge.svg\" alt=\"Open In Colab\"/></a>"
      ]
    },
    {
      "cell_type": "markdown",
      "metadata": {
        "id": "IR56trFcPcC1",
        "colab_type": "text"
      },
      "source": [
        "# Churn Prediction\n",
        "\n",
        "*Churn rate*, ou simplesmente *churn*, representa a taxa de evasão da sua base de clientes. Em serviços como Spotify ou Netflix, ela representaria a taxa de cancelamento de assinaturas.\n",
        "\n",
        "<p align=center>\n",
        "<img src=\"https://raw.githubusercontent.com/carlosfab/dsnp2/master/img/churnrate.jpg\" width=\"60%\"></p>\n",
        "\n",
        "Ela é de extrema importância para a administração e sua análise ao longo do tempo pode mostrar que existe algum problema que deve ser atacado.\n",
        "\n",
        "*Churn* também pode ser usado para identificar potenciais cancelamentos, com um tempo de antecedência, e promover ações direcionadas para tentar reter tais clientes. Essa métrica deve receber atenção pelo fato de que o Custo de Aquisição de Cliente (CAC) é normalmente mais alto que o custo para mantê-los. Ou seja, um alto valor para o *churn rate* é o que não desejamos."
      ]
    },
    {
      "cell_type": "markdown",
      "metadata": {
        "id": "0HVmpIxQWT4Y",
        "colab_type": "text"
      },
      "source": [
        "## Aquisição dos Dados\n",
        "\n",
        "Os dados utilizados neste projeto foram originalmente disponibilizados na [plataforma de ensino da IBM Developer](https://developer.ibm.com/technologies/data-science/patterns/predict-customer-churn-using-watson-studio-and-jupyter-notebooks/#), e tratam de um problema típico de uma companhia de telecomunicações. O *dataset* completo pode ser encontrado [neste link](https://raw.githubusercontent.com/carlosfab/dsnp2/master/datasets/WA_Fn-UseC_-Telco-Customer-Churn.csv).\n",
        "\n",
        "Apesar de não haver informações explícitas disponíves, os nomes das colunas permitem um entendimento a respeito do problema."
      ]
    },
    {
      "cell_type": "code",
      "metadata": {
        "id": "oQ4bNy7udtEE",
        "colab_type": "code",
        "colab": {
          "base_uri": "https://localhost:8080/",
          "height": 139
        },
        "outputId": "23fdd9c3-d180-4772-b35c-43b58f59e14a"
      },
      "source": [
        "# importar os pacotes necessários\n",
        "!pip install scikit-plot -q\n",
        "import pandas as pd\n",
        "import numpy as np\n",
        "import matplotlib.pyplot as plt\n",
        "import seaborn as sns\n",
        "from imblearn.under_sampling import RandomUnderSampler\n",
        "from sklearn.metrics import roc_auc_score, accuracy_score, f1_score, confusion_matrix, classification_report\n",
        "from scikitplot.metrics import plot_confusion_matrix, plot_roc\n",
        "from sklearn.preprocessing import StandardScaler, LabelEncoder\n",
        "from sklearn.pipeline import make_pipeline\n",
        "from sklearn.model_selection import train_test_split\n",
        "from sklearn.model_selection import cross_val_score\n",
        "from sklearn.model_selection import StratifiedKFold\n",
        "from sklearn.model_selection import GridSearchCV\n",
        "from sklearn.svm import SVC\n",
        "from lightgbm import LGBMClassifier\n",
        "from sklearn.linear_model import SGDClassifier\n",
        "from sklearn.tree import DecisionTreeClassifier\n",
        "from sklearn.linear_model import LogisticRegression\n",
        "from xgboost import XGBClassifier\n",
        "from sklearn.ensemble import RandomForestClassifier\n",
        "pd.set_option('display.max_rows', 1000)\n",
        "np.random.seed(42)\n",
        " \n",
        "%matplotlib inline\n",
        "\n",
        "# importar os dados\n",
        "DATA_PATH = \"https://raw.githubusercontent.com/carlosfab/dsnp2/master/datasets/WA_Fn-UseC_-Telco-Customer-Churn.csv\"\n",
        "df = pd.read_csv(DATA_PATH)"
      ],
      "execution_count": 1,
      "outputs": [
        {
          "output_type": "stream",
          "text": [
            "/usr/local/lib/python3.6/dist-packages/statsmodels/tools/_testing.py:19: FutureWarning: pandas.util.testing is deprecated. Use the functions in the public API at pandas.testing instead.\n",
            "  import pandas.util.testing as tm\n",
            "/usr/local/lib/python3.6/dist-packages/sklearn/externals/six.py:31: FutureWarning: The module is deprecated in version 0.21 and will be removed in version 0.23 since we've dropped support for Python 2.7. Please rely on the official version of six (https://pypi.org/project/six/).\n",
            "  \"(https://pypi.org/project/six/).\", FutureWarning)\n",
            "/usr/local/lib/python3.6/dist-packages/sklearn/utils/deprecation.py:144: FutureWarning: The sklearn.neighbors.base module is  deprecated in version 0.22 and will be removed in version 0.24. The corresponding classes / functions should instead be imported from sklearn.neighbors. Anything that cannot be imported from sklearn.neighbors is now part of the private API.\n",
            "  warnings.warn(message, FutureWarning)\n"
          ],
          "name": "stderr"
        }
      ]
    },
    {
      "cell_type": "markdown",
      "metadata": {
        "id": "vslXVTkhSRIB",
        "colab_type": "text"
      },
      "source": [
        "##Análise Exploratória dos Dados\n",
        "\n",
        "A fim de começar este projeto, irei verificar a integridade e usabilidade do dataset.\n",
        "\n",
        "Para isso, deixarei  abaixo informações como: Número de linhas e colunas, quais são as variáveis do banco de dados, a quantidade de valores ausentes e o número de valores únicos por coluna. Essa última, especificamente, vai auxiliar na identificação de variáveis potencialmente categóricas."
      ]
    },
    {
      "cell_type": "markdown",
      "metadata": {
        "id": "UWQ7QEbDE238",
        "colab_type": "text"
      },
      "source": [
        "**Primeiras e últimas 5 linhas do Dataset**"
      ]
    },
    {
      "cell_type": "code",
      "metadata": {
        "id": "r89Lt4QmSXuJ",
        "colab_type": "code",
        "colab": {
          "base_uri": "https://localhost:8080/",
          "height": 309
        },
        "outputId": "e3371800-f6d5-48d7-9b18-6db4eee9b3ed"
      },
      "source": [
        "# Primeiras 5 entradas\n",
        "df.head()"
      ],
      "execution_count": 2,
      "outputs": [
        {
          "output_type": "execute_result",
          "data": {
            "text/html": [
              "<div>\n",
              "<style scoped>\n",
              "    .dataframe tbody tr th:only-of-type {\n",
              "        vertical-align: middle;\n",
              "    }\n",
              "\n",
              "    .dataframe tbody tr th {\n",
              "        vertical-align: top;\n",
              "    }\n",
              "\n",
              "    .dataframe thead th {\n",
              "        text-align: right;\n",
              "    }\n",
              "</style>\n",
              "<table border=\"1\" class=\"dataframe\">\n",
              "  <thead>\n",
              "    <tr style=\"text-align: right;\">\n",
              "      <th></th>\n",
              "      <th>customerID</th>\n",
              "      <th>gender</th>\n",
              "      <th>SeniorCitizen</th>\n",
              "      <th>Partner</th>\n",
              "      <th>Dependents</th>\n",
              "      <th>tenure</th>\n",
              "      <th>PhoneService</th>\n",
              "      <th>MultipleLines</th>\n",
              "      <th>InternetService</th>\n",
              "      <th>OnlineSecurity</th>\n",
              "      <th>OnlineBackup</th>\n",
              "      <th>DeviceProtection</th>\n",
              "      <th>TechSupport</th>\n",
              "      <th>StreamingTV</th>\n",
              "      <th>StreamingMovies</th>\n",
              "      <th>Contract</th>\n",
              "      <th>PaperlessBilling</th>\n",
              "      <th>PaymentMethod</th>\n",
              "      <th>MonthlyCharges</th>\n",
              "      <th>TotalCharges</th>\n",
              "      <th>Churn</th>\n",
              "    </tr>\n",
              "  </thead>\n",
              "  <tbody>\n",
              "    <tr>\n",
              "      <th>0</th>\n",
              "      <td>7590-VHVEG</td>\n",
              "      <td>Female</td>\n",
              "      <td>0</td>\n",
              "      <td>Yes</td>\n",
              "      <td>No</td>\n",
              "      <td>1</td>\n",
              "      <td>No</td>\n",
              "      <td>No phone service</td>\n",
              "      <td>DSL</td>\n",
              "      <td>No</td>\n",
              "      <td>Yes</td>\n",
              "      <td>No</td>\n",
              "      <td>No</td>\n",
              "      <td>No</td>\n",
              "      <td>No</td>\n",
              "      <td>Month-to-month</td>\n",
              "      <td>Yes</td>\n",
              "      <td>Electronic check</td>\n",
              "      <td>29.85</td>\n",
              "      <td>29.85</td>\n",
              "      <td>No</td>\n",
              "    </tr>\n",
              "    <tr>\n",
              "      <th>1</th>\n",
              "      <td>5575-GNVDE</td>\n",
              "      <td>Male</td>\n",
              "      <td>0</td>\n",
              "      <td>No</td>\n",
              "      <td>No</td>\n",
              "      <td>34</td>\n",
              "      <td>Yes</td>\n",
              "      <td>No</td>\n",
              "      <td>DSL</td>\n",
              "      <td>Yes</td>\n",
              "      <td>No</td>\n",
              "      <td>Yes</td>\n",
              "      <td>No</td>\n",
              "      <td>No</td>\n",
              "      <td>No</td>\n",
              "      <td>One year</td>\n",
              "      <td>No</td>\n",
              "      <td>Mailed check</td>\n",
              "      <td>56.95</td>\n",
              "      <td>1889.5</td>\n",
              "      <td>No</td>\n",
              "    </tr>\n",
              "    <tr>\n",
              "      <th>2</th>\n",
              "      <td>3668-QPYBK</td>\n",
              "      <td>Male</td>\n",
              "      <td>0</td>\n",
              "      <td>No</td>\n",
              "      <td>No</td>\n",
              "      <td>2</td>\n",
              "      <td>Yes</td>\n",
              "      <td>No</td>\n",
              "      <td>DSL</td>\n",
              "      <td>Yes</td>\n",
              "      <td>Yes</td>\n",
              "      <td>No</td>\n",
              "      <td>No</td>\n",
              "      <td>No</td>\n",
              "      <td>No</td>\n",
              "      <td>Month-to-month</td>\n",
              "      <td>Yes</td>\n",
              "      <td>Mailed check</td>\n",
              "      <td>53.85</td>\n",
              "      <td>108.15</td>\n",
              "      <td>Yes</td>\n",
              "    </tr>\n",
              "    <tr>\n",
              "      <th>3</th>\n",
              "      <td>7795-CFOCW</td>\n",
              "      <td>Male</td>\n",
              "      <td>0</td>\n",
              "      <td>No</td>\n",
              "      <td>No</td>\n",
              "      <td>45</td>\n",
              "      <td>No</td>\n",
              "      <td>No phone service</td>\n",
              "      <td>DSL</td>\n",
              "      <td>Yes</td>\n",
              "      <td>No</td>\n",
              "      <td>Yes</td>\n",
              "      <td>Yes</td>\n",
              "      <td>No</td>\n",
              "      <td>No</td>\n",
              "      <td>One year</td>\n",
              "      <td>No</td>\n",
              "      <td>Bank transfer (automatic)</td>\n",
              "      <td>42.30</td>\n",
              "      <td>1840.75</td>\n",
              "      <td>No</td>\n",
              "    </tr>\n",
              "    <tr>\n",
              "      <th>4</th>\n",
              "      <td>9237-HQITU</td>\n",
              "      <td>Female</td>\n",
              "      <td>0</td>\n",
              "      <td>No</td>\n",
              "      <td>No</td>\n",
              "      <td>2</td>\n",
              "      <td>Yes</td>\n",
              "      <td>No</td>\n",
              "      <td>Fiber optic</td>\n",
              "      <td>No</td>\n",
              "      <td>No</td>\n",
              "      <td>No</td>\n",
              "      <td>No</td>\n",
              "      <td>No</td>\n",
              "      <td>No</td>\n",
              "      <td>Month-to-month</td>\n",
              "      <td>Yes</td>\n",
              "      <td>Electronic check</td>\n",
              "      <td>70.70</td>\n",
              "      <td>151.65</td>\n",
              "      <td>Yes</td>\n",
              "    </tr>\n",
              "  </tbody>\n",
              "</table>\n",
              "</div>"
            ],
            "text/plain": [
              "   customerID  gender  SeniorCitizen  ... MonthlyCharges TotalCharges  Churn\n",
              "0  7590-VHVEG  Female              0  ...          29.85        29.85     No\n",
              "1  5575-GNVDE    Male              0  ...          56.95       1889.5     No\n",
              "2  3668-QPYBK    Male              0  ...          53.85       108.15    Yes\n",
              "3  7795-CFOCW    Male              0  ...          42.30      1840.75     No\n",
              "4  9237-HQITU  Female              0  ...          70.70       151.65    Yes\n",
              "\n",
              "[5 rows x 21 columns]"
            ]
          },
          "metadata": {
            "tags": []
          },
          "execution_count": 2
        }
      ]
    },
    {
      "cell_type": "code",
      "metadata": {
        "id": "5M33CqqXQhzk",
        "colab_type": "code",
        "colab": {
          "base_uri": "https://localhost:8080/",
          "height": 309
        },
        "outputId": "fac2f5ba-cbcc-41b7-f998-22f2ace7033f"
      },
      "source": [
        "# Ultimas 5 entradas\n",
        "df.tail()"
      ],
      "execution_count": 3,
      "outputs": [
        {
          "output_type": "execute_result",
          "data": {
            "text/html": [
              "<div>\n",
              "<style scoped>\n",
              "    .dataframe tbody tr th:only-of-type {\n",
              "        vertical-align: middle;\n",
              "    }\n",
              "\n",
              "    .dataframe tbody tr th {\n",
              "        vertical-align: top;\n",
              "    }\n",
              "\n",
              "    .dataframe thead th {\n",
              "        text-align: right;\n",
              "    }\n",
              "</style>\n",
              "<table border=\"1\" class=\"dataframe\">\n",
              "  <thead>\n",
              "    <tr style=\"text-align: right;\">\n",
              "      <th></th>\n",
              "      <th>customerID</th>\n",
              "      <th>gender</th>\n",
              "      <th>SeniorCitizen</th>\n",
              "      <th>Partner</th>\n",
              "      <th>Dependents</th>\n",
              "      <th>tenure</th>\n",
              "      <th>PhoneService</th>\n",
              "      <th>MultipleLines</th>\n",
              "      <th>InternetService</th>\n",
              "      <th>OnlineSecurity</th>\n",
              "      <th>OnlineBackup</th>\n",
              "      <th>DeviceProtection</th>\n",
              "      <th>TechSupport</th>\n",
              "      <th>StreamingTV</th>\n",
              "      <th>StreamingMovies</th>\n",
              "      <th>Contract</th>\n",
              "      <th>PaperlessBilling</th>\n",
              "      <th>PaymentMethod</th>\n",
              "      <th>MonthlyCharges</th>\n",
              "      <th>TotalCharges</th>\n",
              "      <th>Churn</th>\n",
              "    </tr>\n",
              "  </thead>\n",
              "  <tbody>\n",
              "    <tr>\n",
              "      <th>7038</th>\n",
              "      <td>6840-RESVB</td>\n",
              "      <td>Male</td>\n",
              "      <td>0</td>\n",
              "      <td>Yes</td>\n",
              "      <td>Yes</td>\n",
              "      <td>24</td>\n",
              "      <td>Yes</td>\n",
              "      <td>Yes</td>\n",
              "      <td>DSL</td>\n",
              "      <td>Yes</td>\n",
              "      <td>No</td>\n",
              "      <td>Yes</td>\n",
              "      <td>Yes</td>\n",
              "      <td>Yes</td>\n",
              "      <td>Yes</td>\n",
              "      <td>One year</td>\n",
              "      <td>Yes</td>\n",
              "      <td>Mailed check</td>\n",
              "      <td>84.80</td>\n",
              "      <td>1990.5</td>\n",
              "      <td>No</td>\n",
              "    </tr>\n",
              "    <tr>\n",
              "      <th>7039</th>\n",
              "      <td>2234-XADUH</td>\n",
              "      <td>Female</td>\n",
              "      <td>0</td>\n",
              "      <td>Yes</td>\n",
              "      <td>Yes</td>\n",
              "      <td>72</td>\n",
              "      <td>Yes</td>\n",
              "      <td>Yes</td>\n",
              "      <td>Fiber optic</td>\n",
              "      <td>No</td>\n",
              "      <td>Yes</td>\n",
              "      <td>Yes</td>\n",
              "      <td>No</td>\n",
              "      <td>Yes</td>\n",
              "      <td>Yes</td>\n",
              "      <td>One year</td>\n",
              "      <td>Yes</td>\n",
              "      <td>Credit card (automatic)</td>\n",
              "      <td>103.20</td>\n",
              "      <td>7362.9</td>\n",
              "      <td>No</td>\n",
              "    </tr>\n",
              "    <tr>\n",
              "      <th>7040</th>\n",
              "      <td>4801-JZAZL</td>\n",
              "      <td>Female</td>\n",
              "      <td>0</td>\n",
              "      <td>Yes</td>\n",
              "      <td>Yes</td>\n",
              "      <td>11</td>\n",
              "      <td>No</td>\n",
              "      <td>No phone service</td>\n",
              "      <td>DSL</td>\n",
              "      <td>Yes</td>\n",
              "      <td>No</td>\n",
              "      <td>No</td>\n",
              "      <td>No</td>\n",
              "      <td>No</td>\n",
              "      <td>No</td>\n",
              "      <td>Month-to-month</td>\n",
              "      <td>Yes</td>\n",
              "      <td>Electronic check</td>\n",
              "      <td>29.60</td>\n",
              "      <td>346.45</td>\n",
              "      <td>No</td>\n",
              "    </tr>\n",
              "    <tr>\n",
              "      <th>7041</th>\n",
              "      <td>8361-LTMKD</td>\n",
              "      <td>Male</td>\n",
              "      <td>1</td>\n",
              "      <td>Yes</td>\n",
              "      <td>No</td>\n",
              "      <td>4</td>\n",
              "      <td>Yes</td>\n",
              "      <td>Yes</td>\n",
              "      <td>Fiber optic</td>\n",
              "      <td>No</td>\n",
              "      <td>No</td>\n",
              "      <td>No</td>\n",
              "      <td>No</td>\n",
              "      <td>No</td>\n",
              "      <td>No</td>\n",
              "      <td>Month-to-month</td>\n",
              "      <td>Yes</td>\n",
              "      <td>Mailed check</td>\n",
              "      <td>74.40</td>\n",
              "      <td>306.6</td>\n",
              "      <td>Yes</td>\n",
              "    </tr>\n",
              "    <tr>\n",
              "      <th>7042</th>\n",
              "      <td>3186-AJIEK</td>\n",
              "      <td>Male</td>\n",
              "      <td>0</td>\n",
              "      <td>No</td>\n",
              "      <td>No</td>\n",
              "      <td>66</td>\n",
              "      <td>Yes</td>\n",
              "      <td>No</td>\n",
              "      <td>Fiber optic</td>\n",
              "      <td>Yes</td>\n",
              "      <td>No</td>\n",
              "      <td>Yes</td>\n",
              "      <td>Yes</td>\n",
              "      <td>Yes</td>\n",
              "      <td>Yes</td>\n",
              "      <td>Two year</td>\n",
              "      <td>Yes</td>\n",
              "      <td>Bank transfer (automatic)</td>\n",
              "      <td>105.65</td>\n",
              "      <td>6844.5</td>\n",
              "      <td>No</td>\n",
              "    </tr>\n",
              "  </tbody>\n",
              "</table>\n",
              "</div>"
            ],
            "text/plain": [
              "      customerID  gender  SeniorCitizen  ... MonthlyCharges TotalCharges  Churn\n",
              "7038  6840-RESVB    Male              0  ...          84.80       1990.5     No\n",
              "7039  2234-XADUH  Female              0  ...         103.20       7362.9     No\n",
              "7040  4801-JZAZL  Female              0  ...          29.60       346.45     No\n",
              "7041  8361-LTMKD    Male              1  ...          74.40        306.6    Yes\n",
              "7042  3186-AJIEK    Male              0  ...         105.65       6844.5     No\n",
              "\n",
              "[5 rows x 21 columns]"
            ]
          },
          "metadata": {
            "tags": []
          },
          "execution_count": 3
        }
      ]
    },
    {
      "cell_type": "markdown",
      "metadata": {
        "id": "G2EN_w_kE_JP",
        "colab_type": "text"
      },
      "source": [
        "**Número de linhas e colunas e quais são as variáveis do banco de dados**"
      ]
    },
    {
      "cell_type": "code",
      "metadata": {
        "id": "i76eLUO6PYO9",
        "colab_type": "code",
        "colab": {
          "base_uri": "https://localhost:8080/",
          "height": 459
        },
        "outputId": "014fa627-4078-4b6e-ab23-c2e61b77e8a4"
      },
      "source": [
        "# Informações sobre o Dataset\n",
        "print('Número de linhas: {}'.format(df.shape[0]))\n",
        "print('Número de colunas: {}\\n'.format(df.shape[1]))\n",
        "print('Colunas: \\n{}'.format(df.dtypes))"
      ],
      "execution_count": 4,
      "outputs": [
        {
          "output_type": "stream",
          "text": [
            "Número de linhas: 7043\n",
            "Número de colunas: 21\n",
            "\n",
            "Colunas: \n",
            "customerID           object\n",
            "gender               object\n",
            "SeniorCitizen         int64\n",
            "Partner              object\n",
            "Dependents           object\n",
            "tenure                int64\n",
            "PhoneService         object\n",
            "MultipleLines        object\n",
            "InternetService      object\n",
            "OnlineSecurity       object\n",
            "OnlineBackup         object\n",
            "DeviceProtection     object\n",
            "TechSupport          object\n",
            "StreamingTV          object\n",
            "StreamingMovies      object\n",
            "Contract             object\n",
            "PaperlessBilling     object\n",
            "PaymentMethod        object\n",
            "MonthlyCharges      float64\n",
            "TotalCharges         object\n",
            "Churn                object\n",
            "dtype: object\n"
          ],
          "name": "stdout"
        }
      ]
    },
    {
      "cell_type": "markdown",
      "metadata": {
        "id": "dStZjNQuFYoE",
        "colab_type": "text"
      },
      "source": [
        "**Quantidade de valores ausentes e de valores únicos por coluna**"
      ]
    },
    {
      "cell_type": "code",
      "metadata": {
        "id": "28Y1Gu29Qm2y",
        "colab_type": "code",
        "colab": {
          "base_uri": "https://localhost:8080/",
          "height": 442
        },
        "outputId": "4172c542-eb57-47e9-c6fb-cfe642dc0e43"
      },
      "source": [
        "# Informações sobre o Dataset\n",
        "print('Quantidade de Valores ausentes: {}\\n'.format(df.isnull().sum().values.sum()))\n",
        "print('Quantidade de valores unicos por coluna: \\n{}'.format(df.nunique()))"
      ],
      "execution_count": 5,
      "outputs": [
        {
          "output_type": "stream",
          "text": [
            "Quantidade de Valores ausentes: 0\n",
            "\n",
            "Quantidade de valores unicos por coluna: \n",
            "customerID          7043\n",
            "gender                 2\n",
            "SeniorCitizen          2\n",
            "Partner                2\n",
            "Dependents             2\n",
            "tenure                73\n",
            "PhoneService           2\n",
            "MultipleLines          3\n",
            "InternetService        3\n",
            "OnlineSecurity         3\n",
            "OnlineBackup           3\n",
            "DeviceProtection       3\n",
            "TechSupport            3\n",
            "StreamingTV            3\n",
            "StreamingMovies        3\n",
            "Contract               3\n",
            "PaperlessBilling       2\n",
            "PaymentMethod          4\n",
            "MonthlyCharges      1585\n",
            "TotalCharges        6531\n",
            "Churn                  2\n",
            "dtype: int64\n"
          ],
          "name": "stdout"
        }
      ]
    },
    {
      "cell_type": "markdown",
      "metadata": {
        "id": "1wppeHDSEzeJ",
        "colab_type": "text"
      },
      "source": [
        "**Algumas informações podem ser tiradas dos dados acima:**\n",
        "* O banco de dados tem 7043 entradas e 21 variáveis.\n",
        "* A maioria das colunas tem como tipo da informação: `object`, ou seja, são informações em texto.\n",
        "* Não há valores ausentes no dataset.\n",
        "* Apenas 4 colunas tem mais que 4 valores únicos, sendo a maioria com 2 ou 3 valores únicos."
      ]
    },
    {
      "cell_type": "markdown",
      "metadata": {
        "id": "gWqKOwXqIh-l",
        "colab_type": "text"
      },
      "source": [
        "**Além disso, vale ressaltar alguns pontos:**\n",
        "* A coluna costumerID não agrega nenhuma informação, pois se trata de um identificador única para cada cliente.\n",
        "* A variável alvo está na coluna Churn, indicando a situação de churn.\n",
        "* A coluna TotalCharges deveria ser um float, mas está como string.\n",
        " * Como iremos ver mais à frente, apesar de não termos detectado nenhum valor ausente, existem algumas strings que representam sim valores ausentes.\n",
        "* Várias features precisam ser codificadas para valores numéricos.\n",
        "* Há várias features binárias, incluindo nossa variável alvo, ou com múltiplos valores, cada um representando uma categoria."
      ]
    },
    {
      "cell_type": "markdown",
      "metadata": {
        "id": "fsWcT4LxJcth",
        "colab_type": "text"
      },
      "source": [
        "Abaixo, irei apagar a coluna `customerID` e transformar a coluna `Total Charges` em numérica, pois apesar de ser representada com números, está composta de strings."
      ]
    },
    {
      "cell_type": "code",
      "metadata": {
        "id": "X3HUJabqU_7E",
        "colab_type": "code",
        "colab": {
          "base_uri": "https://localhost:8080/",
          "height": 85
        },
        "outputId": "982b78be-fbba-42fe-c7a2-60c693243f32"
      },
      "source": [
        "# Criando função para transformar string em float\n",
        "def converter_str_float(entrada):\n",
        "    \"\"\"\n",
        "    Converte um objeto do tipo string em float.\n",
        "\n",
        "    # Inputs:\n",
        "        string, string da coluna TotalCharges.\n",
        "\n",
        "    # Returns\n",
        "        Valor convertido em float, caso permita a conversão.\n",
        "        NaN, caso o valor não seja apropriado.\n",
        "    \"\"\"\n",
        "\n",
        "    try:\n",
        "        return float(entrada)\n",
        "    except ValueError:\n",
        "        return np.nan\n",
        "\n",
        "# criar cópia do dataframe\n",
        "df_clean = df.copy()\n",
        "\n",
        "# remover coluna costumerID\n",
        "df_clean.drop(\"customerID\", axis=1, inplace=True)\n",
        "\n",
        "# converter as strings de TotalCharges para float\n",
        "df_clean[\"TotalCharges\"] = df_clean[\"TotalCharges\"].apply(converter_str_float)\n",
        "\n",
        "# verificar entradas ausentes\n",
        "print(\"Dados ausentes em 'TotalCharges' (antes):\\t{}\\n\".format(df_clean[\"TotalCharges\"].isnull().sum()))\n",
        "\n",
        "# substituir os dados ausentes pelo valor da mediana\n",
        "TotalChargesMedian = df_clean.TotalCharges.median()\n",
        "df_clean[\"TotalCharges\"].fillna(TotalChargesMedian, inplace=True)\n",
        "\n",
        "# verificar entradas ausentes novamente\n",
        "print(\"Dados ausentes em 'TotalCharges' (depois):\\t{}\\n\".format(df_clean[\"TotalCharges\"].isnull().sum()))"
      ],
      "execution_count": 6,
      "outputs": [
        {
          "output_type": "stream",
          "text": [
            "Dados ausentes em 'TotalCharges' (antes):\t11\n",
            "\n",
            "Dados ausentes em 'TotalCharges' (depois):\t0\n",
            "\n"
          ],
          "name": "stdout"
        }
      ]
    },
    {
      "cell_type": "markdown",
      "metadata": {
        "id": "32fKCz9pKPzQ",
        "colab_type": "text"
      },
      "source": [
        "Como podemos ver acima, após transformar em numérica, vimos que a coluna tinha 11 dados ausentes, então substitui esses valores com a mediana dos dados dessa variável."
      ]
    },
    {
      "cell_type": "markdown",
      "metadata": {
        "id": "tAcMTUeVK6yt",
        "colab_type": "text"
      },
      "source": [
        "Apesar deste dataset ser composto majoritariamente por variáveis categóricas, é possível ver abaixo, pelo método `describe`, que não parece haver a presença de outliers."
      ]
    },
    {
      "cell_type": "code",
      "metadata": {
        "id": "9A0mBZWyVvaY",
        "colab_type": "code",
        "colab": {
          "base_uri": "https://localhost:8080/",
          "height": 297
        },
        "outputId": "ed1f7450-23ec-4e6a-ddde-92577ed10306"
      },
      "source": [
        "df_clean.describe()"
      ],
      "execution_count": 7,
      "outputs": [
        {
          "output_type": "execute_result",
          "data": {
            "text/html": [
              "<div>\n",
              "<style scoped>\n",
              "    .dataframe tbody tr th:only-of-type {\n",
              "        vertical-align: middle;\n",
              "    }\n",
              "\n",
              "    .dataframe tbody tr th {\n",
              "        vertical-align: top;\n",
              "    }\n",
              "\n",
              "    .dataframe thead th {\n",
              "        text-align: right;\n",
              "    }\n",
              "</style>\n",
              "<table border=\"1\" class=\"dataframe\">\n",
              "  <thead>\n",
              "    <tr style=\"text-align: right;\">\n",
              "      <th></th>\n",
              "      <th>SeniorCitizen</th>\n",
              "      <th>tenure</th>\n",
              "      <th>MonthlyCharges</th>\n",
              "      <th>TotalCharges</th>\n",
              "    </tr>\n",
              "  </thead>\n",
              "  <tbody>\n",
              "    <tr>\n",
              "      <th>count</th>\n",
              "      <td>7043.000000</td>\n",
              "      <td>7043.000000</td>\n",
              "      <td>7043.000000</td>\n",
              "      <td>7043.000000</td>\n",
              "    </tr>\n",
              "    <tr>\n",
              "      <th>mean</th>\n",
              "      <td>0.162147</td>\n",
              "      <td>32.371149</td>\n",
              "      <td>64.761692</td>\n",
              "      <td>2281.916928</td>\n",
              "    </tr>\n",
              "    <tr>\n",
              "      <th>std</th>\n",
              "      <td>0.368612</td>\n",
              "      <td>24.559481</td>\n",
              "      <td>30.090047</td>\n",
              "      <td>2265.270398</td>\n",
              "    </tr>\n",
              "    <tr>\n",
              "      <th>min</th>\n",
              "      <td>0.000000</td>\n",
              "      <td>0.000000</td>\n",
              "      <td>18.250000</td>\n",
              "      <td>18.800000</td>\n",
              "    </tr>\n",
              "    <tr>\n",
              "      <th>25%</th>\n",
              "      <td>0.000000</td>\n",
              "      <td>9.000000</td>\n",
              "      <td>35.500000</td>\n",
              "      <td>402.225000</td>\n",
              "    </tr>\n",
              "    <tr>\n",
              "      <th>50%</th>\n",
              "      <td>0.000000</td>\n",
              "      <td>29.000000</td>\n",
              "      <td>70.350000</td>\n",
              "      <td>1397.475000</td>\n",
              "    </tr>\n",
              "    <tr>\n",
              "      <th>75%</th>\n",
              "      <td>0.000000</td>\n",
              "      <td>55.000000</td>\n",
              "      <td>89.850000</td>\n",
              "      <td>3786.600000</td>\n",
              "    </tr>\n",
              "    <tr>\n",
              "      <th>max</th>\n",
              "      <td>1.000000</td>\n",
              "      <td>72.000000</td>\n",
              "      <td>118.750000</td>\n",
              "      <td>8684.800000</td>\n",
              "    </tr>\n",
              "  </tbody>\n",
              "</table>\n",
              "</div>"
            ],
            "text/plain": [
              "       SeniorCitizen       tenure  MonthlyCharges  TotalCharges\n",
              "count    7043.000000  7043.000000     7043.000000   7043.000000\n",
              "mean        0.162147    32.371149       64.761692   2281.916928\n",
              "std         0.368612    24.559481       30.090047   2265.270398\n",
              "min         0.000000     0.000000       18.250000     18.800000\n",
              "25%         0.000000     9.000000       35.500000    402.225000\n",
              "50%         0.000000    29.000000       70.350000   1397.475000\n",
              "75%         0.000000    55.000000       89.850000   3786.600000\n",
              "max         1.000000    72.000000      118.750000   8684.800000"
            ]
          },
          "metadata": {
            "tags": []
          },
          "execution_count": 7
        }
      ]
    },
    {
      "cell_type": "markdown",
      "metadata": {
        "id": "lmUTbQG9LuPX",
        "colab_type": "text"
      },
      "source": [
        "Essa constatação de não haver outliers pode ser percebida, por exemplo, nos boxplots de `MonthlyCharges` e `TotalCharges` abaixo. Os gráficos não identificaram pontos além dos limites padrões."
      ]
    },
    {
      "cell_type": "code",
      "metadata": {
        "id": "67AOd6dJf8Q8",
        "colab_type": "code",
        "colab": {
          "base_uri": "https://localhost:8080/",
          "height": 297
        },
        "outputId": "cd497678-b2c0-4b28-eff5-6d5aa9616396"
      },
      "source": [
        "fig, ax = plt.subplots(1, 2, figsize=(12, 4))\n",
        "sns.boxplot(df_clean['MonthlyCharges'], ax=ax[0])\n",
        "sns.boxplot(df_clean['TotalCharges'], ax=ax[1])\n",
        "plt.tight_layout()"
      ],
      "execution_count": 8,
      "outputs": [
        {
          "output_type": "display_data",
          "data": {
            "image/png": "[encoded data removed]",
            "text/plain": [
              "<Figure size 864x288 with 2 Axes>"
            ]
          },
          "metadata": {
            "tags": [],
            "needs_background": "light"
          }
        }
      ]
    },
    {
      "cell_type": "markdown",
      "metadata": {
        "id": "rXwr5OvQMVdy",
        "colab_type": "text"
      },
      "source": [
        "Para identificar se os nossos dados podem estar com algum tipo de viés, irei verificar a contagem de valores para `Male` e `Female`.\n",
        "\n",
        "Abaixo, você pode ver que o gênero das entradas está balanceado."
      ]
    },
    {
      "cell_type": "code",
      "metadata": {
        "id": "tXQIQwaShH8j",
        "colab_type": "code",
        "colab": {
          "base_uri": "https://localhost:8080/",
          "height": 279
        },
        "outputId": "2b1cdb87-20a3-468a-8b64-59890e575e2e"
      },
      "source": [
        "sns.countplot(df_clean.gender)\n",
        "plt.show()"
      ],
      "execution_count": 9,
      "outputs": [
        {
          "output_type": "display_data",
          "data": {
            "image/png": "[encoded data removed]",
            "text/plain": [
              "<Figure size 432x288 with 1 Axes>"
            ]
          },
          "metadata": {
            "tags": [],
            "needs_background": "light"
          }
        }
      ]
    },
    {
      "cell_type": "markdown",
      "metadata": {
        "id": "1-yTJ4WAMhLS",
        "colab_type": "text"
      },
      "source": [
        "O caso acima não se repete quando o assunto é Churn, a variável principal da análise é composta majoritariamente de `No`, o que pode ser bom para uma empresa, mas, para treinar o modelo de Machine Learning, vai ser necessário balancear esses dados a fim de se obter um melhor resultado."
      ]
    },
    {
      "cell_type": "code",
      "metadata": {
        "id": "hB4gMAuFjVm1",
        "colab_type": "code",
        "colab": {
          "base_uri": "https://localhost:8080/",
          "height": 279
        },
        "outputId": "ae57b23b-0d35-4c21-dc97-def1818736a0"
      },
      "source": [
        "sns.countplot(df_clean.Churn)\n",
        "plt.show()"
      ],
      "execution_count": 10,
      "outputs": [
        {
          "output_type": "display_data",
          "data": {
            "image/png": "[encoded data removed]",
            "text/plain": [
              "<Figure size 432x288 with 1 Axes>"
            ]
          },
          "metadata": {
            "tags": [],
            "needs_background": "light"
          }
        }
      ]
    },
    {
      "cell_type": "markdown",
      "metadata": {
        "id": "ThH0bud3XImv",
        "colab_type": "text"
      },
      "source": [
        "## Preparar os Dados\n",
        "\n",
        "Nesta etapa de preparação dos dados, será realizado um pré-processamento básico, apenas com a finalidade de construir um modelo base.\n",
        "\n",
        "As features que continham 2 labels únicos, serão processadas usando-se o `LabelEncoder`, para transformar as informações em valores 0 e 1. Vale lembrar que isso inclui a variável alvo `Churn`. Na sequência, serão separadas as variáveis numéricas das categóricas. As categóricas serão transformadas em variáveis dummy, para permitir a sua utilização em todos os modelos."
      ]
    },
    {
      "cell_type": "code",
      "metadata": {
        "id": "pU1N14GMjmEi",
        "colab_type": "code",
        "colab": {
          "base_uri": "https://localhost:8080/",
          "height": 258
        },
        "outputId": "8df1ff27-ec08-4204-db9f-3334c5d21f6b"
      },
      "source": [
        "# pré processar as variáveis\n",
        "binary_var = df_clean.nunique()[df_clean.nunique() == 2].keys().tolist()\n",
        "num_var = [col for col in df_clean.select_dtypes(['int', 'float']).columns.tolist() if col not in binary_var]\n",
        "cat_var = [col for col in df_clean.columns.tolist() if col not in binary_var + num_var]\n",
        "\n",
        "# criar uma cópia do dataframe\n",
        "df_proc = df_clean.copy()\n",
        "\n",
        "# Label Encoding para as variáveis Binárias\n",
        "le = LabelEncoder()\n",
        "for i in binary_var:\n",
        "    df_proc[i] = le.fit_transform(df_proc[i])\n",
        "\n",
        "# Encoding para colunas categóricas com múltiplas classes\n",
        "df_proc = pd.get_dummies(df_proc, columns=cat_var)\n",
        "\n",
        "# ver as 5 primeiras entradas do novo dataframe\n",
        "df_proc.head()"
      ],
      "execution_count": 11,
      "outputs": [
        {
          "output_type": "execute_result",
          "data": {
            "text/html": [
              "<div>\n",
              "<style scoped>\n",
              "    .dataframe tbody tr th:only-of-type {\n",
              "        vertical-align: middle;\n",
              "    }\n",
              "\n",
              "    .dataframe tbody tr th {\n",
              "        vertical-align: top;\n",
              "    }\n",
              "\n",
              "    .dataframe thead th {\n",
              "        text-align: right;\n",
              "    }\n",
              "</style>\n",
              "<table border=\"1\" class=\"dataframe\">\n",
              "  <thead>\n",
              "    <tr style=\"text-align: right;\">\n",
              "      <th></th>\n",
              "      <th>gender</th>\n",
              "      <th>SeniorCitizen</th>\n",
              "      <th>Partner</th>\n",
              "      <th>Dependents</th>\n",
              "      <th>tenure</th>\n",
              "      <th>PhoneService</th>\n",
              "      <th>PaperlessBilling</th>\n",
              "      <th>MonthlyCharges</th>\n",
              "      <th>TotalCharges</th>\n",
              "      <th>Churn</th>\n",
              "      <th>MultipleLines_No</th>\n",
              "      <th>MultipleLines_No phone service</th>\n",
              "      <th>MultipleLines_Yes</th>\n",
              "      <th>InternetService_DSL</th>\n",
              "      <th>InternetService_Fiber optic</th>\n",
              "      <th>InternetService_No</th>\n",
              "      <th>OnlineSecurity_No</th>\n",
              "      <th>OnlineSecurity_No internet service</th>\n",
              "      <th>OnlineSecurity_Yes</th>\n",
              "      <th>OnlineBackup_No</th>\n",
              "      <th>OnlineBackup_No internet service</th>\n",
              "      <th>OnlineBackup_Yes</th>\n",
              "      <th>DeviceProtection_No</th>\n",
              "      <th>DeviceProtection_No internet service</th>\n",
              "      <th>DeviceProtection_Yes</th>\n",
              "      <th>TechSupport_No</th>\n",
              "      <th>TechSupport_No internet service</th>\n",
              "      <th>TechSupport_Yes</th>\n",
              "      <th>StreamingTV_No</th>\n",
              "      <th>StreamingTV_No internet service</th>\n",
              "      <th>StreamingTV_Yes</th>\n",
              "      <th>StreamingMovies_No</th>\n",
              "      <th>StreamingMovies_No internet service</th>\n",
              "      <th>StreamingMovies_Yes</th>\n",
              "      <th>Contract_Month-to-month</th>\n",
              "      <th>Contract_One year</th>\n",
              "      <th>Contract_Two year</th>\n",
              "      <th>PaymentMethod_Bank transfer (automatic)</th>\n",
              "      <th>PaymentMethod_Credit card (automatic)</th>\n",
              "      <th>PaymentMethod_Electronic check</th>\n",
              "      <th>PaymentMethod_Mailed check</th>\n",
              "    </tr>\n",
              "  </thead>\n",
              "  <tbody>\n",
              "    <tr>\n",
              "      <th>0</th>\n",
              "      <td>0</td>\n",
              "      <td>0</td>\n",
              "      <td>1</td>\n",
              "      <td>0</td>\n",
              "      <td>1</td>\n",
              "      <td>0</td>\n",
              "      <td>1</td>\n",
              "      <td>29.85</td>\n",
              "      <td>29.85</td>\n",
              "      <td>0</td>\n",
              "      <td>0</td>\n",
              "      <td>1</td>\n",
              "      <td>0</td>\n",
              "      <td>1</td>\n",
              "      <td>0</td>\n",
              "      <td>0</td>\n",
              "      <td>1</td>\n",
              "      <td>0</td>\n",
              "      <td>0</td>\n",
              "      <td>0</td>\n",
              "      <td>0</td>\n",
              "      <td>1</td>\n",
              "      <td>1</td>\n",
              "      <td>0</td>\n",
              "      <td>0</td>\n",
              "      <td>1</td>\n",
              "      <td>0</td>\n",
              "      <td>0</td>\n",
              "      <td>1</td>\n",
              "      <td>0</td>\n",
              "      <td>0</td>\n",
              "      <td>1</td>\n",
              "      <td>0</td>\n",
              "      <td>0</td>\n",
              "      <td>1</td>\n",
              "      <td>0</td>\n",
              "      <td>0</td>\n",
              "      <td>0</td>\n",
              "      <td>0</td>\n",
              "      <td>1</td>\n",
              "      <td>0</td>\n",
              "    </tr>\n",
              "    <tr>\n",
              "      <th>1</th>\n",
              "      <td>1</td>\n",
              "      <td>0</td>\n",
              "      <td>0</td>\n",
              "      <td>0</td>\n",
              "      <td>34</td>\n",
              "      <td>1</td>\n",
              "      <td>0</td>\n",
              "      <td>56.95</td>\n",
              "      <td>1889.50</td>\n",
              "      <td>0</td>\n",
              "      <td>1</td>\n",
              "      <td>0</td>\n",
              "      <td>0</td>\n",
              "      <td>1</td>\n",
              "      <td>0</td>\n",
              "      <td>0</td>\n",
              "      <td>0</td>\n",
              "      <td>0</td>\n",
              "      <td>1</td>\n",
              "      <td>1</td>\n",
              "      <td>0</td>\n",
              "      <td>0</td>\n",
              "      <td>0</td>\n",
              "      <td>0</td>\n",
              "      <td>1</td>\n",
              "      <td>1</td>\n",
              "      <td>0</td>\n",
              "      <td>0</td>\n",
              "      <td>1</td>\n",
              "      <td>0</td>\n",
              "      <td>0</td>\n",
              "      <td>1</td>\n",
              "      <td>0</td>\n",
              "      <td>0</td>\n",
              "      <td>0</td>\n",
              "      <td>1</td>\n",
              "      <td>0</td>\n",
              "      <td>0</td>\n",
              "      <td>0</td>\n",
              "      <td>0</td>\n",
              "      <td>1</td>\n",
              "    </tr>\n",
              "    <tr>\n",
              "      <th>2</th>\n",
              "      <td>1</td>\n",
              "      <td>0</td>\n",
              "      <td>0</td>\n",
              "      <td>0</td>\n",
              "      <td>2</td>\n",
              "      <td>1</td>\n",
              "      <td>1</td>\n",
              "      <td>53.85</td>\n",
              "      <td>108.15</td>\n",
              "      <td>1</td>\n",
              "      <td>1</td>\n",
              "      <td>0</td>\n",
              "      <td>0</td>\n",
              "      <td>1</td>\n",
              "      <td>0</td>\n",
              "      <td>0</td>\n",
              "      <td>0</td>\n",
              "      <td>0</td>\n",
              "      <td>1</td>\n",
              "      <td>0</td>\n",
              "      <td>0</td>\n",
              "      <td>1</td>\n",
              "      <td>1</td>\n",
              "      <td>0</td>\n",
              "      <td>0</td>\n",
              "      <td>1</td>\n",
              "      <td>0</td>\n",
              "      <td>0</td>\n",
              "      <td>1</td>\n",
              "      <td>0</td>\n",
              "      <td>0</td>\n",
              "      <td>1</td>\n",
              "      <td>0</td>\n",
              "      <td>0</td>\n",
              "      <td>1</td>\n",
              "      <td>0</td>\n",
              "      <td>0</td>\n",
              "      <td>0</td>\n",
              "      <td>0</td>\n",
              "      <td>0</td>\n",
              "      <td>1</td>\n",
              "    </tr>\n",
              "    <tr>\n",
              "      <th>3</th>\n",
              "      <td>1</td>\n",
              "      <td>0</td>\n",
              "      <td>0</td>\n",
              "      <td>0</td>\n",
              "      <td>45</td>\n",
              "      <td>0</td>\n",
              "      <td>0</td>\n",
              "      <td>42.30</td>\n",
              "      <td>1840.75</td>\n",
              "      <td>0</td>\n",
              "      <td>0</td>\n",
              "      <td>1</td>\n",
              "      <td>0</td>\n",
              "      <td>1</td>\n",
              "      <td>0</td>\n",
              "      <td>0</td>\n",
              "      <td>0</td>\n",
              "      <td>0</td>\n",
              "      <td>1</td>\n",
              "      <td>1</td>\n",
              "      <td>0</td>\n",
              "      <td>0</td>\n",
              "      <td>0</td>\n",
              "      <td>0</td>\n",
              "      <td>1</td>\n",
              "      <td>0</td>\n",
              "      <td>0</td>\n",
              "      <td>1</td>\n",
              "      <td>1</td>\n",
              "      <td>0</td>\n",
              "      <td>0</td>\n",
              "      <td>1</td>\n",
              "      <td>0</td>\n",
              "      <td>0</td>\n",
              "      <td>0</td>\n",
              "      <td>1</td>\n",
              "      <td>0</td>\n",
              "      <td>1</td>\n",
              "      <td>0</td>\n",
              "      <td>0</td>\n",
              "      <td>0</td>\n",
              "    </tr>\n",
              "    <tr>\n",
              "      <th>4</th>\n",
              "      <td>0</td>\n",
              "      <td>0</td>\n",
              "      <td>0</td>\n",
              "      <td>0</td>\n",
              "      <td>2</td>\n",
              "      <td>1</td>\n",
              "      <td>1</td>\n",
              "      <td>70.70</td>\n",
              "      <td>151.65</td>\n",
              "      <td>1</td>\n",
              "      <td>1</td>\n",
              "      <td>0</td>\n",
              "      <td>0</td>\n",
              "      <td>0</td>\n",
              "      <td>1</td>\n",
              "      <td>0</td>\n",
              "      <td>1</td>\n",
              "      <td>0</td>\n",
              "      <td>0</td>\n",
              "      <td>1</td>\n",
              "      <td>0</td>\n",
              "      <td>0</td>\n",
              "      <td>1</td>\n",
              "      <td>0</td>\n",
              "      <td>0</td>\n",
              "      <td>1</td>\n",
              "      <td>0</td>\n",
              "      <td>0</td>\n",
              "      <td>1</td>\n",
              "      <td>0</td>\n",
              "      <td>0</td>\n",
              "      <td>1</td>\n",
              "      <td>0</td>\n",
              "      <td>0</td>\n",
              "      <td>1</td>\n",
              "      <td>0</td>\n",
              "      <td>0</td>\n",
              "      <td>0</td>\n",
              "      <td>0</td>\n",
              "      <td>1</td>\n",
              "      <td>0</td>\n",
              "    </tr>\n",
              "  </tbody>\n",
              "</table>\n",
              "</div>"
            ],
            "text/plain": [
              "   gender  ...  PaymentMethod_Mailed check\n",
              "0       0  ...                           0\n",
              "1       1  ...                           1\n",
              "2       1  ...                           1\n",
              "3       1  ...                           0\n",
              "4       0  ...                           0\n",
              "\n",
              "[5 rows x 41 columns]"
            ]
          },
          "metadata": {
            "tags": []
          },
          "execution_count": 11
        }
      ]
    },
    {
      "cell_type": "markdown",
      "metadata": {
        "id": "h3Hqqx_ISN8A",
        "colab_type": "text"
      },
      "source": [
        "Acima, podemos ver como o Dataset ficou após preparar os dados."
      ]
    },
    {
      "cell_type": "markdown",
      "metadata": {
        "id": "vmqMNCQekE1H",
        "colab_type": "text"
      },
      "source": [
        "## Machine Learning\n",
        "\n",
        "Com o processamento realizado na etapa anterior, os dados já podem ser usados nos modelos de machine learning.\n",
        "\n",
        "Para podermos comparar o desempenho e melhora do modelo, usarei um algoritmo simples. Não será feito nenhum ajuste nos hiperparâmetros e nem será pensado ainda em balanceamento de dados ou feature enginnering.\n",
        "\n",
        "No entanto, é importante separar os dados que serão utilizados como treino e como teste. Os dados de teste só irão ser usados na última etapa do projeto, para termos uma avaliação mais real."
      ]
    },
    {
      "cell_type": "code",
      "metadata": {
        "id": "ZUi6lCgRtXkO",
        "colab_type": "code",
        "colab": {}
      },
      "source": [
        "# separar a feature matrix da target vector\n",
        "X = df_proc.drop('Churn', axis=1)\n",
        "y = df_proc['Churn']\n",
        "\n",
        "# dividir os dados entre treino e teste.\n",
        "X_train, X_test, y_train, y_test = train_test_split(X, y, shuffle=True, stratify=y)"
      ],
      "execution_count": 12,
      "outputs": []
    },
    {
      "cell_type": "markdown",
      "metadata": {
        "id": "G9luNcM2inpj",
        "colab_type": "text"
      },
      "source": [
        "Agora, irei criar uma função, que dei o nome `val_model`. Essa função, ao dar os inputs X_train, y_train e o modelo de machine learning, ela vai fazer uma validação cruzada, ou seja, vai dividir esses dados de 5 formas diferentes e ver o resultado do modelo com cada uma dessas 5 divisões diferentes.\n",
        "\n",
        "O objetivo disso é ter uma média da assertividade do modelo com varios dados diferentes, assim, aumentando a nossa confiança com o modelo."
      ]
    },
    {
      "cell_type": "code",
      "metadata": {
        "id": "eISe9rv4weDb",
        "colab_type": "code",
        "colab": {}
      },
      "source": [
        "# Criando função para fazer validação cruzada\n",
        "def val_model(X, y, clf, quite=False):\n",
        "    \"\"\"\n",
        "    Realiza cross-validation com os dados de treino para determinado modelo.\n",
        "\n",
        "    # Arguments\n",
        "        X: DataFrame, contém as variáveis independetes.\n",
        "        y: Series, vetor contendo a variável alvo.\n",
        "        clf: modelo classificador do Scikit-learn.\n",
        "        quite: bool, indicando se a função deve imprimir os resultados ou não.\n",
        "\n",
        "    # Returns\n",
        "        float, média dos scores da cross-validation.\n",
        "    \"\"\"\n",
        "    \n",
        "    X = np.array(X)\n",
        "    y = np.array(y)\n",
        "\n",
        "    pipeline = make_pipeline(StandardScaler(), clf)\n",
        "    scores = cross_val_score(pipeline, X, y, scoring='recall')\n",
        "\n",
        "    if quite == False:\n",
        "        print(\"Recall: {:.2f} (+/- {:.2f})\".format(scores.mean(), scores.std()))\n",
        "    \n",
        "    return scores.mean()"
      ],
      "execution_count": 13,
      "outputs": []
    },
    {
      "cell_type": "markdown",
      "metadata": {
        "id": "eYt2pnmCkdV3",
        "colab_type": "text"
      },
      "source": [
        "Agora, irei testar a função acima com um modelo de `Random Forest`, sem nenhum tipo de alteração nos parâmetros e sem balancear os dados."
      ]
    },
    {
      "cell_type": "code",
      "metadata": {
        "id": "df9oZLLowxEz",
        "colab_type": "code",
        "colab": {
          "base_uri": "https://localhost:8080/",
          "height": 34
        },
        "outputId": "00dbe529-4d5e-4c49-a82d-c87df398dedf"
      },
      "source": [
        "# Testando a função com um Algoritmo de Classificação\n",
        "rf = RandomForestClassifier()\n",
        "score_inicial = val_model(X_train, y_train, rf)"
      ],
      "execution_count": 14,
      "outputs": [
        {
          "output_type": "stream",
          "text": [
            "Recall: 0.49 (+/- 0.03)\n"
          ],
          "name": "stdout"
        }
      ]
    },
    {
      "cell_type": "markdown",
      "metadata": {
        "id": "raY_JBsDk3k1",
        "colab_type": "text"
      },
      "source": [
        "Acima podemos ver que nosso modelo teve uma média de 0.48 de recall, que é uma medida de assertividade.\n",
        "\n",
        "O recall nos informa uma porcentagem que mede quantos *churn=1* o modelo acertou, de todos os 1 que aconteceram.\n",
        "\n",
        "Uma vez que temos um baseline para comparar se os ajustes melhoram ou pioram o desempenho do modelo, irei realizar o balanceamento dos dados e ver como isso irá impactar.\n",
        "\n",
        "A técnica escolhida foi Under Sampling. Seguindo recomendações de algumas literaturas, os dados serão padronizados antes de usar essa técnica de balanceamento.\n",
        "\n",
        "Lembrando, é importante que o balanceamento aconteca apenas com os dados de treino. Os dados de teste devem permanecer intocáveis."
      ]
    },
    {
      "cell_type": "code",
      "metadata": {
        "id": "51sLg6yexZ2b",
        "colab_type": "code",
        "colab": {
          "base_uri": "https://localhost:8080/",
          "height": 71
        },
        "outputId": "80954ae4-e058-404a-8144-f564b5082cfa"
      },
      "source": [
        "# Padronizar os Dados\n",
        "scaler = StandardScaler().fit(X_train)\n",
        "X_train = scaler.transform(X_train)\n",
        "\n",
        "# Balancear os Dados de Treino\n",
        "rus = RandomUnderSampler()\n",
        "X_train_rus, y_train_rus = rus.fit_sample(X_train, y_train)"
      ],
      "execution_count": 15,
      "outputs": [
        {
          "output_type": "stream",
          "text": [
            "/usr/local/lib/python3.6/dist-packages/sklearn/utils/deprecation.py:87: FutureWarning: Function safe_indexing is deprecated; safe_indexing is deprecated in version 0.22 and will be removed in version 0.24.\n",
            "  warnings.warn(msg, category=FutureWarning)\n"
          ],
          "name": "stderr"
        }
      ]
    },
    {
      "cell_type": "markdown",
      "metadata": {
        "id": "I-w39EOIlZL0",
        "colab_type": "text"
      },
      "source": [
        "Agora, aplicarei a validação cruzada com vários modelos para podermos escolher um para seguir o projeto, desta vez, os dados estão balanceados e já vai haver uma mudança significativa em comparação com a nota passada.\n",
        "\n",
        "Os modelos escolhidos são:\n",
        "* Random Forest\n",
        "* Decision Tree\n",
        "* Stochastic Gradient Descent\n",
        "* SVC\n",
        "* Regressão Logística\n",
        "* XG Boost\n",
        "* LightGBM"
      ]
    },
    {
      "cell_type": "code",
      "metadata": {
        "id": "eepnffbI14Ii",
        "colab_type": "code",
        "colab": {
          "base_uri": "https://localhost:8080/",
          "height": 266
        },
        "outputId": "07582b3f-c414-4a48-8958-83f6dd491336"
      },
      "source": [
        "# instanciar modelos\n",
        "rf = RandomForestClassifier()\n",
        "dt = DecisionTreeClassifier()\n",
        "sgdc = SGDClassifier()\n",
        "svc = SVC()\n",
        "lr = LogisticRegression()\n",
        "xgb = XGBClassifier()\n",
        "lgbm = LGBMClassifier()\n",
        "\n",
        "model = []\n",
        "recall = []\n",
        "# avaliar o desempenho (recall)\n",
        "for clf in (rf, dt, sgdc, svc, lr, xgb, lgbm):\n",
        "    model.append(clf.__class__.__name__)\n",
        "    recall.append(val_model(X_train_rus, y_train_rus, clf, quite=True))\n",
        "\n",
        "pd.DataFrame(data=recall, index=model, columns=['Recall'])"
      ],
      "execution_count": 16,
      "outputs": [
        {
          "output_type": "execute_result",
          "data": {
            "text/html": [
              "<div>\n",
              "<style scoped>\n",
              "    .dataframe tbody tr th:only-of-type {\n",
              "        vertical-align: middle;\n",
              "    }\n",
              "\n",
              "    .dataframe tbody tr th {\n",
              "        vertical-align: top;\n",
              "    }\n",
              "\n",
              "    .dataframe thead th {\n",
              "        text-align: right;\n",
              "    }\n",
              "</style>\n",
              "<table border=\"1\" class=\"dataframe\">\n",
              "  <thead>\n",
              "    <tr style=\"text-align: right;\">\n",
              "      <th></th>\n",
              "      <th>Recall</th>\n",
              "    </tr>\n",
              "  </thead>\n",
              "  <tbody>\n",
              "    <tr>\n",
              "      <th>RandomForestClassifier</th>\n",
              "      <td>0.761790</td>\n",
              "    </tr>\n",
              "    <tr>\n",
              "      <th>DecisionTreeClassifier</th>\n",
              "      <td>0.691174</td>\n",
              "    </tr>\n",
              "    <tr>\n",
              "      <th>SGDClassifier</th>\n",
              "      <td>0.751769</td>\n",
              "    </tr>\n",
              "    <tr>\n",
              "      <th>SVC</th>\n",
              "      <td>0.783882</td>\n",
              "    </tr>\n",
              "    <tr>\n",
              "      <th>LogisticRegression</th>\n",
              "      <td>0.790305</td>\n",
              "    </tr>\n",
              "    <tr>\n",
              "      <th>XGBClassifier</th>\n",
              "      <td>0.793193</td>\n",
              "    </tr>\n",
              "    <tr>\n",
              "      <th>LGBMClassifier</th>\n",
              "      <td>0.765333</td>\n",
              "    </tr>\n",
              "  </tbody>\n",
              "</table>\n",
              "</div>"
            ],
            "text/plain": [
              "                          Recall\n",
              "RandomForestClassifier  0.761790\n",
              "DecisionTreeClassifier  0.691174\n",
              "SGDClassifier           0.751769\n",
              "SVC                     0.783882\n",
              "LogisticRegression      0.790305\n",
              "XGBClassifier           0.793193\n",
              "LGBMClassifier          0.765333"
            ]
          },
          "metadata": {
            "tags": []
          },
          "execution_count": 16
        }
      ]
    },
    {
      "cell_type": "markdown",
      "metadata": {
        "id": "lEX0_TK7mwXY",
        "colab_type": "text"
      },
      "source": [
        "Dadas as notas, os modelos acima e as possibilidades de tuning de parâmetros, optei por continuar o projeto com o XGBoost."
      ]
    },
    {
      "cell_type": "markdown",
      "metadata": {
        "id": "ar1wIQFe37F4",
        "colab_type": "text"
      },
      "source": [
        "## Otimização de Hiperparâmetros\n",
        "\n",
        "XGBoost possui inúmeros parâmetros. Alguns afetam mais a qualidade do modelo, outros menos.\n",
        "\n",
        "Abaixo irei fazer o que é chamado de Grid Search. Nada mais é do que dar uma lista com varios valores de certos parâmetros, e então o `GridSearchCV` vai testar o modelo com esses varios parâmetros e então usaremos o melhor.\n",
        "\n",
        "Sabe o que fizemos acima com varios modelos para entao escolher o XGBoost? Agora farei isso com parâmetros, para escolher o melhor.\n",
        "\n",
        "Usarei Grid Search nos parâmetros:\n",
        "* n_estimators\n",
        "* max_depth\n",
        "* learning_rate"
      ]
    },
    {
      "cell_type": "code",
      "metadata": {
        "id": "rlG6rjUC6gk2",
        "colab_type": "code",
        "colab": {
          "base_uri": "https://localhost:8080/",
          "height": 34
        },
        "outputId": "e6a942cf-9391-41ec-c8c9-772a9d45b191"
      },
      "source": [
        "xgb = XGBClassifier()\n",
        "\n",
        "param_grid = {\n",
        " 'n_estimators':range(0,500,50),\n",
        "}\n",
        "\n",
        "# identificar melhor parâmetro\n",
        "grid_search = GridSearchCV(xgb, param_grid, scoring=\"recall\", n_jobs=-1)\n",
        "grid_result = grid_search.fit(X_train_rus, y_train_rus)\n",
        "\n",
        "# ver resultados\n",
        "print(\"Melhor: {} para {}\".format(grid_result.best_score_, grid_result.best_params_))"
      ],
      "execution_count": 17,
      "outputs": [
        {
          "output_type": "stream",
          "text": [
            "Melhor: 0.7953304524656838 para {'n_estimators': 50}\n"
          ],
          "name": "stdout"
        }
      ]
    },
    {
      "cell_type": "code",
      "metadata": {
        "id": "1GmK0Vbn8UA2",
        "colab_type": "code",
        "colab": {
          "base_uri": "https://localhost:8080/",
          "height": 34
        },
        "outputId": "ec2eecaa-2e7a-41b2-98a7-77f8ca0f78b0"
      },
      "source": [
        "xgb = XGBClassifier(n_estimators=50)\n",
        "\n",
        "param_grid = {\n",
        " 'max_depth':range(1,8)\n",
        "}\n",
        "\n",
        "# identificar melhor parâmetro\n",
        "grid_search = GridSearchCV(xgb, param_grid, scoring=\"recall\", n_jobs=-1)\n",
        "grid_result = grid_search.fit(X_train_rus, y_train_rus)\n",
        "\n",
        "# ver resultados\n",
        "print(\"Melhor: {} para {}\".format(grid_result.best_score_, grid_result.best_params_))"
      ],
      "execution_count": 18,
      "outputs": [
        {
          "output_type": "stream",
          "text": [
            "Melhor: 0.8116954753431622 para {'max_depth': 1}\n"
          ],
          "name": "stdout"
        }
      ]
    },
    {
      "cell_type": "code",
      "metadata": {
        "id": "zyt480la8Ua3",
        "colab_type": "code",
        "colab": {
          "base_uri": "https://localhost:8080/",
          "height": 34
        },
        "outputId": "67ee2e34-851a-458f-adae-b9029707f369"
      },
      "source": [
        "xgb = XGBClassifier(n_estimators=50, max_depth=1)\n",
        "\n",
        "param_grid = {\n",
        " 'learning_rate':[0.001, 0.01, 0.1, 1]\n",
        "}\n",
        "\n",
        "# identificar melhor parâmetro\n",
        "grid_search = GridSearchCV(xgb, param_grid, scoring=\"recall\", n_jobs=-1)\n",
        "grid_result = grid_search.fit(X_train_rus, y_train_rus)\n",
        "\n",
        "# ver resultados\n",
        "print(\"Melhor: {} para {}\".format(grid_result.best_score_, grid_result.best_params_))"
      ],
      "execution_count": 19,
      "outputs": [
        {
          "output_type": "stream",
          "text": [
            "Melhor: 0.8851474326385359 para {'learning_rate': 0.001}\n"
          ],
          "name": "stdout"
        }
      ]
    },
    {
      "cell_type": "markdown",
      "metadata": {
        "id": "u_MYGokf0IeI",
        "colab_type": "text"
      },
      "source": [
        "**Resultado do Grid Search**\n",
        "\n",
        "Como mostrado acima, com `n_estimatos` = 50, `max_depth` = 1 e `learning_rate` = 0.001, chegamos a um recall de 88,5%, antes o modelo tinha a nota de apenas 79%.\n",
        "\n",
        "Agora, com hiperparâmetros escolhidos, finalmente iremos treinar o modelo final e usar com os dados de teste, que estavam intocados até agora."
      ]
    },
    {
      "cell_type": "code",
      "metadata": {
        "id": "ex1s8kEz_DNa",
        "colab_type": "code",
        "colab": {
          "base_uri": "https://localhost:8080/",
          "height": 136
        },
        "outputId": "47d2ff21-14d7-4839-a0ec-c537af6e123e"
      },
      "source": [
        "# modelo final\n",
        "xgb = XGBClassifier(learning_rate=0.001, n_estimators=50, max_depth=1)\n",
        "xgb.fit(X_train_rus, y_train_rus)"
      ],
      "execution_count": 20,
      "outputs": [
        {
          "output_type": "execute_result",
          "data": {
            "text/plain": [
              "XGBClassifier(base_score=0.5, booster='gbtree', colsample_bylevel=1,\n",
              "              colsample_bynode=1, colsample_bytree=1, gamma=0,\n",
              "              learning_rate=0.001, max_delta_step=0, max_depth=1,\n",
              "              min_child_weight=1, missing=None, n_estimators=50, n_jobs=1,\n",
              "              nthread=None, objective='binary:logistic', random_state=0,\n",
              "              reg_alpha=0, reg_lambda=1, scale_pos_weight=1, seed=None,\n",
              "              silent=None, subsample=1, verbosity=1)"
            ]
          },
          "metadata": {
            "tags": []
          },
          "execution_count": 20
        }
      ]
    },
    {
      "cell_type": "code",
      "metadata": {
        "id": "UByFgfEfBpw1",
        "colab_type": "code",
        "colab": {}
      },
      "source": [
        "# Previsão\n",
        "X_test = scaler.transform(X_test)\n",
        "y_pred = xgb.predict(X_test)"
      ],
      "execution_count": 21,
      "outputs": []
    },
    {
      "cell_type": "code",
      "metadata": {
        "id": "agHSpBxp6yzm",
        "colab_type": "code",
        "colab": {
          "base_uri": "https://localhost:8080/",
          "height": 482
        },
        "outputId": "04195f36-06e0-4d5e-afa8-4b4fd4f83415"
      },
      "source": [
        "# Classification Report\n",
        "print(classification_report(y_test, y_pred, digits=2))\n",
        "\n",
        "# imprimir a área sob a curva\n",
        "print(\"AUC: {:.4f}\\n\".format(roc_auc_score(y_test, y_pred)))\n",
        "\n",
        "# plotar matriz de confusão\n",
        "plot_confusion_matrix(y_test, y_pred, normalize=True)\n",
        "plt.show()"
      ],
      "execution_count": 22,
      "outputs": [
        {
          "output_type": "stream",
          "text": [
            "              precision    recall  f1-score   support\n",
            "\n",
            "           0       0.93      0.57      0.71      1294\n",
            "           1       0.43      0.89      0.58       467\n",
            "\n",
            "    accuracy                           0.66      1761\n",
            "   macro avg       0.68      0.73      0.64      1761\n",
            "weighted avg       0.80      0.66      0.67      1761\n",
            "\n",
            "AUC: 0.7292\n",
            "\n"
          ],
          "name": "stdout"
        },
        {
          "output_type": "display_data",
          "data": {
            "image/png": "[encoded data removed]",
            "text/plain": [
              "<Figure size 432x288 with 2 Axes>"
            ]
          },
          "metadata": {
            "tags": [],
            "needs_background": "light"
          }
        }
      ]
    },
    {
      "cell_type": "markdown",
      "metadata": {
        "id": "0OFfmKiy3PtH",
        "colab_type": "text"
      },
      "source": [
        "**Resultado final**\n",
        "\n",
        "Acima, podemos ver na tabela de classificação, que alcançamos um recall de aproximadamente 89% com os dados de treino.\n",
        "\n",
        "Por que dei tanta ênfase ao recall e não a outras medidas de nota para o modelo?\n",
        "Simples, é o recall que que mede o número de acertos de churn sobre todos os churn, ou seja, um recall baixo significa uma alta evasão que o modelo não preveu. E é exatamente isso que queremos, um modelo que prevê evasões de clientes."
      ]
    },
    {
      "cell_type": "markdown",
      "metadata": {
        "id": "gVcvu4Ze7Akp",
        "colab_type": "text"
      },
      "source": [
        "## Conclusões\n",
        "\n",
        "Os dados de testes não haviam sido passados para o modelo ainda. No entanto, ele manteve um desempenho próximo àquele estimado anteriormente, graças a um bom trabalho de otimização nos parâmetros.\n",
        "\n",
        "Ainda há espaço para se tentar outras técnicas de balanceamento de dados e também técnicas de machine learning como feature engineering e feature selection.\n",
        "\n",
        "Espero que tenham gostado do projeto!"
      ]
    }
  ]
}