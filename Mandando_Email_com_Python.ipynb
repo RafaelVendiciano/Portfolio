{
  "nbformat": 4,
  "nbformat_minor": 0,
  "metadata": {
    "colab": {
      "name": "Mandando Email com Python.ipynb",
      "provenance": [],
      "authorship_tag": "ABX9TyObySnJcLljLPIRcki+aTbr",
      "include_colab_link": true
    },
    "kernelspec": {
      "name": "python3",
      "display_name": "Python 3"
    },
    "language_info": {
      "name": "python"
    }
  },
  "cells": [
    {
      "cell_type": "markdown",
      "metadata": {
        "id": "view-in-github",
        "colab_type": "text"
      },
      "source": [
        "<a href=\"https://colab.research.google.com/github/RafaelVendiciano/Portfolio/blob/master/Mandando_Email_com_Python.ipynb\" target=\"_parent\"><img src=\"https://colab.research.google.com/assets/colab-badge.svg\" alt=\"Open In Colab\"/></a>"
      ]
    },
    {
      "cell_type": "code",
      "metadata": {
        "id": "CY0FfKir47MR"
      },
      "source": [
        "import smtplib\n",
        "import imghdr\n",
        "from email.message import EmailMessage"
      ],
      "execution_count": 1,
      "outputs": []
    },
    {
      "cell_type": "code",
      "metadata": {
        "id": "KwR3vHgW18MT"
      },
      "source": [
        "msg = EmailMessage()\n",
        "msg['Subject'] = 'Assunto do email'\n",
        "msg['From'] = 'seu email'\n",
        "msg['To'] = ['email de destino 1', 'email de destino 2']\n",
        "msg.set_content(\"\"\"\n",
        "Segue: fotos de cachorros\n",
        "\"\"\")\n",
        "\n",
        "dogs = ['dog.3.jpg', 'dog.5.jpg', 'dog.6.jpg', 'dog.7.jpg', 'dog.8.jpg', 'dog.9.jpg']\n",
        "\n",
        "for dog in dogs:\n",
        "  with open('/Users/Faculdade/OneDrive/Área de Trabalho/imagens de cachorros/' + dog, 'rb') as f:\n",
        "    file_data = f.read()\n",
        "    file_type = imghdr.what(f.name)\n",
        "    file_name = f.name.split('/')[-1]\n",
        "\n",
        "  msg.add_attachment(file_data, maintype='image', subtype=file_type, filename=file_name)\n",
        "\n",
        "\n",
        "with smtplib.SMTP_SSL('smtp.gmail.com', 465) as smtp:\n",
        "    smtp.login('seu email', 'senha do seu email')\n",
        "    smtp.send_message(msg)"
      ],
      "execution_count": null,
      "outputs": []
    }
  ]
}